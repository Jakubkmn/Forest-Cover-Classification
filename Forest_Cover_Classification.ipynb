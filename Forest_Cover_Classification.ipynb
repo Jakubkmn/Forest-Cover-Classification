{
 "cells": [
  {
   "cell_type": "markdown",
   "metadata": {},
   "source": [
    "This project used deep learning to predict forest cover type (the most common kind of tree cover) based only on cartographic variables. \n",
    "\n",
    "The actual forest cover type for a given 30 x 30 meter cell was determined from US Forest Service (USFS) Region 2 Resource Information System data. \n",
    "The covertypes are the following:\n",
    "Spruce/Fir Lodgepole Pine Ponderosa Pine Cottonwood/Willow Aspen Douglas-fir Krummholz\n",
    "\n",
    "Independent variables were then derived from data obtained from the US Geological Survey and USFS. The data is raw and has not been scaled or preprocessed for you. It contains binary columns of data for qualitative independent variables such as wilderness areas and soil type."
   ]
  },
  {
   "cell_type": "code",
   "execution_count": 2,
   "metadata": {},
   "outputs": [
    {
     "data": {
      "text/html": [
       "<div>\n",
       "<style scoped>\n",
       "    .dataframe tbody tr th:only-of-type {\n",
       "        vertical-align: middle;\n",
       "    }\n",
       "\n",
       "    .dataframe tbody tr th {\n",
       "        vertical-align: top;\n",
       "    }\n",
       "\n",
       "    .dataframe thead th {\n",
       "        text-align: right;\n",
       "    }\n",
       "</style>\n",
       "<table border=\"1\" class=\"dataframe\">\n",
       "  <thead>\n",
       "    <tr style=\"text-align: right;\">\n",
       "      <th></th>\n",
       "      <th>Elevation</th>\n",
       "      <th>Aspect</th>\n",
       "      <th>Slope</th>\n",
       "      <th>Horizontal_Distance_To_Hydrology</th>\n",
       "      <th>Vertical_Distance_To_Hydrology</th>\n",
       "      <th>Horizontal_Distance_To_Roadways</th>\n",
       "      <th>Hillshade_9am</th>\n",
       "      <th>Hillshade_Noon</th>\n",
       "      <th>Hillshade_3pm</th>\n",
       "      <th>Horizontal_Distance_To_Fire_Points</th>\n",
       "      <th>...</th>\n",
       "      <th>Soil_Type32</th>\n",
       "      <th>Soil_Type33</th>\n",
       "      <th>Soil_Type34</th>\n",
       "      <th>Soil_Type35</th>\n",
       "      <th>Soil_Type36</th>\n",
       "      <th>Soil_Type37</th>\n",
       "      <th>Soil_Type38</th>\n",
       "      <th>Soil_Type39</th>\n",
       "      <th>Soil_Type40</th>\n",
       "      <th>class</th>\n",
       "    </tr>\n",
       "  </thead>\n",
       "  <tbody>\n",
       "    <tr>\n",
       "      <th>0</th>\n",
       "      <td>2596</td>\n",
       "      <td>51</td>\n",
       "      <td>3</td>\n",
       "      <td>258</td>\n",
       "      <td>0</td>\n",
       "      <td>510</td>\n",
       "      <td>221</td>\n",
       "      <td>232</td>\n",
       "      <td>148</td>\n",
       "      <td>6279</td>\n",
       "      <td>...</td>\n",
       "      <td>0</td>\n",
       "      <td>0</td>\n",
       "      <td>0</td>\n",
       "      <td>0</td>\n",
       "      <td>0</td>\n",
       "      <td>0</td>\n",
       "      <td>0</td>\n",
       "      <td>0</td>\n",
       "      <td>0</td>\n",
       "      <td>5</td>\n",
       "    </tr>\n",
       "    <tr>\n",
       "      <th>1</th>\n",
       "      <td>2590</td>\n",
       "      <td>56</td>\n",
       "      <td>2</td>\n",
       "      <td>212</td>\n",
       "      <td>-6</td>\n",
       "      <td>390</td>\n",
       "      <td>220</td>\n",
       "      <td>235</td>\n",
       "      <td>151</td>\n",
       "      <td>6225</td>\n",
       "      <td>...</td>\n",
       "      <td>0</td>\n",
       "      <td>0</td>\n",
       "      <td>0</td>\n",
       "      <td>0</td>\n",
       "      <td>0</td>\n",
       "      <td>0</td>\n",
       "      <td>0</td>\n",
       "      <td>0</td>\n",
       "      <td>0</td>\n",
       "      <td>5</td>\n",
       "    </tr>\n",
       "    <tr>\n",
       "      <th>2</th>\n",
       "      <td>2804</td>\n",
       "      <td>139</td>\n",
       "      <td>9</td>\n",
       "      <td>268</td>\n",
       "      <td>65</td>\n",
       "      <td>3180</td>\n",
       "      <td>234</td>\n",
       "      <td>238</td>\n",
       "      <td>135</td>\n",
       "      <td>6121</td>\n",
       "      <td>...</td>\n",
       "      <td>0</td>\n",
       "      <td>0</td>\n",
       "      <td>0</td>\n",
       "      <td>0</td>\n",
       "      <td>0</td>\n",
       "      <td>0</td>\n",
       "      <td>0</td>\n",
       "      <td>0</td>\n",
       "      <td>0</td>\n",
       "      <td>2</td>\n",
       "    </tr>\n",
       "    <tr>\n",
       "      <th>3</th>\n",
       "      <td>2785</td>\n",
       "      <td>155</td>\n",
       "      <td>18</td>\n",
       "      <td>242</td>\n",
       "      <td>118</td>\n",
       "      <td>3090</td>\n",
       "      <td>238</td>\n",
       "      <td>238</td>\n",
       "      <td>122</td>\n",
       "      <td>6211</td>\n",
       "      <td>...</td>\n",
       "      <td>0</td>\n",
       "      <td>0</td>\n",
       "      <td>0</td>\n",
       "      <td>0</td>\n",
       "      <td>0</td>\n",
       "      <td>0</td>\n",
       "      <td>0</td>\n",
       "      <td>0</td>\n",
       "      <td>0</td>\n",
       "      <td>2</td>\n",
       "    </tr>\n",
       "    <tr>\n",
       "      <th>4</th>\n",
       "      <td>2595</td>\n",
       "      <td>45</td>\n",
       "      <td>2</td>\n",
       "      <td>153</td>\n",
       "      <td>-1</td>\n",
       "      <td>391</td>\n",
       "      <td>220</td>\n",
       "      <td>234</td>\n",
       "      <td>150</td>\n",
       "      <td>6172</td>\n",
       "      <td>...</td>\n",
       "      <td>0</td>\n",
       "      <td>0</td>\n",
       "      <td>0</td>\n",
       "      <td>0</td>\n",
       "      <td>0</td>\n",
       "      <td>0</td>\n",
       "      <td>0</td>\n",
       "      <td>0</td>\n",
       "      <td>0</td>\n",
       "      <td>5</td>\n",
       "    </tr>\n",
       "  </tbody>\n",
       "</table>\n",
       "<p>5 rows × 55 columns</p>\n",
       "</div>"
      ],
      "text/plain": [
       "   Elevation  Aspect  Slope  Horizontal_Distance_To_Hydrology  \\\n",
       "0       2596      51      3                               258   \n",
       "1       2590      56      2                               212   \n",
       "2       2804     139      9                               268   \n",
       "3       2785     155     18                               242   \n",
       "4       2595      45      2                               153   \n",
       "\n",
       "   Vertical_Distance_To_Hydrology  Horizontal_Distance_To_Roadways  \\\n",
       "0                               0                              510   \n",
       "1                              -6                              390   \n",
       "2                              65                             3180   \n",
       "3                             118                             3090   \n",
       "4                              -1                              391   \n",
       "\n",
       "   Hillshade_9am  Hillshade_Noon  Hillshade_3pm  \\\n",
       "0            221             232            148   \n",
       "1            220             235            151   \n",
       "2            234             238            135   \n",
       "3            238             238            122   \n",
       "4            220             234            150   \n",
       "\n",
       "   Horizontal_Distance_To_Fire_Points  ...  Soil_Type32  Soil_Type33  \\\n",
       "0                                6279  ...            0            0   \n",
       "1                                6225  ...            0            0   \n",
       "2                                6121  ...            0            0   \n",
       "3                                6211  ...            0            0   \n",
       "4                                6172  ...            0            0   \n",
       "\n",
       "   Soil_Type34  Soil_Type35  Soil_Type36  Soil_Type37  Soil_Type38  \\\n",
       "0            0            0            0            0            0   \n",
       "1            0            0            0            0            0   \n",
       "2            0            0            0            0            0   \n",
       "3            0            0            0            0            0   \n",
       "4            0            0            0            0            0   \n",
       "\n",
       "   Soil_Type39  Soil_Type40  class  \n",
       "0            0            0      5  \n",
       "1            0            0      5  \n",
       "2            0            0      2  \n",
       "3            0            0      2  \n",
       "4            0            0      5  \n",
       "\n",
       "[5 rows x 55 columns]"
      ]
     },
     "execution_count": 2,
     "metadata": {},
     "output_type": "execute_result"
    }
   ],
   "source": [
    "import pandas as pd\n",
    "import numpy as np\n",
    "import matplotlib.pyplot as plt\n",
    "\n",
    "import tensorflow as tf\n",
    "from tensorflow import keras\n",
    "from keras.models import Sequential\n",
    "from keras import layers\n",
    "from keras.layers import Dense, InputLayer\n",
    "from keras.optimizers import Adam\n",
    "from keras.callbacks import EarlyStopping\n",
    "\n",
    "from sklearn.model_selection import train_test_split\n",
    "from sklearn.preprocessing import StandardScaler\n",
    "from sklearn.metrics import classification_report\n",
    "\n",
    "#loading and investigating the data\n",
    "df = pd.read_csv('cover_data.csv')\n",
    "df.head()"
   ]
  },
  {
   "cell_type": "markdown",
   "metadata": {},
   "source": [
    "Checking the data types"
   ]
  },
  {
   "cell_type": "code",
   "execution_count": 3,
   "metadata": {},
   "outputs": [
    {
     "name": "stdout",
     "output_type": "stream",
     "text": [
      "<class 'pandas.core.frame.DataFrame'>\n",
      "RangeIndex: 581012 entries, 0 to 581011\n",
      "Data columns (total 55 columns):\n",
      " #   Column                              Non-Null Count   Dtype\n",
      "---  ------                              --------------   -----\n",
      " 0   Elevation                           581012 non-null  int64\n",
      " 1   Aspect                              581012 non-null  int64\n",
      " 2   Slope                               581012 non-null  int64\n",
      " 3   Horizontal_Distance_To_Hydrology    581012 non-null  int64\n",
      " 4   Vertical_Distance_To_Hydrology      581012 non-null  int64\n",
      " 5   Horizontal_Distance_To_Roadways     581012 non-null  int64\n",
      " 6   Hillshade_9am                       581012 non-null  int64\n",
      " 7   Hillshade_Noon                      581012 non-null  int64\n",
      " 8   Hillshade_3pm                       581012 non-null  int64\n",
      " 9   Horizontal_Distance_To_Fire_Points  581012 non-null  int64\n",
      " 10  Wilderness_Area1                    581012 non-null  int64\n",
      " 11  Wilderness_Area2                    581012 non-null  int64\n",
      " 12  Wilderness_Area3                    581012 non-null  int64\n",
      " 13  Wilderness_Area4                    581012 non-null  int64\n",
      " 14  Soil_Type1                          581012 non-null  int64\n",
      " 15  Soil_Type2                          581012 non-null  int64\n",
      " 16  Soil_Type3                          581012 non-null  int64\n",
      " 17  Soil_Type4                          581012 non-null  int64\n",
      " 18  Soil_Type5                          581012 non-null  int64\n",
      " 19  Soil_Type6                          581012 non-null  int64\n",
      " 20  Soil_Type7                          581012 non-null  int64\n",
      " 21  Soil_Type8                          581012 non-null  int64\n",
      " 22  Soil_Type9                          581012 non-null  int64\n",
      " 23  Soil_Type10                         581012 non-null  int64\n",
      " 24  Soil_Type11                         581012 non-null  int64\n",
      " 25  Soil_Type12                         581012 non-null  int64\n",
      " 26  Soil_Type13                         581012 non-null  int64\n",
      " 27  Soil_Type14                         581012 non-null  int64\n",
      " 28  Soil_Type15                         581012 non-null  int64\n",
      " 29  Soil_Type16                         581012 non-null  int64\n",
      " 30  Soil_Type17                         581012 non-null  int64\n",
      " 31  Soil_Type18                         581012 non-null  int64\n",
      " 32  Soil_Type19                         581012 non-null  int64\n",
      " 33  Soil_Type20                         581012 non-null  int64\n",
      " 34  Soil_Type21                         581012 non-null  int64\n",
      " 35  Soil_Type22                         581012 non-null  int64\n",
      " 36  Soil_Type23                         581012 non-null  int64\n",
      " 37  Soil_Type24                         581012 non-null  int64\n",
      " 38  Soil_Type25                         581012 non-null  int64\n",
      " 39  Soil_Type26                         581012 non-null  int64\n",
      " 40  Soil_Type27                         581012 non-null  int64\n",
      " 41  Soil_Type28                         581012 non-null  int64\n",
      " 42  Soil_Type29                         581012 non-null  int64\n",
      " 43  Soil_Type30                         581012 non-null  int64\n",
      " 44  Soil_Type31                         581012 non-null  int64\n",
      " 45  Soil_Type32                         581012 non-null  int64\n",
      " 46  Soil_Type33                         581012 non-null  int64\n",
      " 47  Soil_Type34                         581012 non-null  int64\n",
      " 48  Soil_Type35                         581012 non-null  int64\n",
      " 49  Soil_Type36                         581012 non-null  int64\n",
      " 50  Soil_Type37                         581012 non-null  int64\n",
      " 51  Soil_Type38                         581012 non-null  int64\n",
      " 52  Soil_Type39                         581012 non-null  int64\n",
      " 53  Soil_Type40                         581012 non-null  int64\n",
      " 54  class                               581012 non-null  int64\n",
      "dtypes: int64(55)\n",
      "memory usage: 243.8 MB\n"
     ]
    }
   ],
   "source": [
    "df.info()"
   ]
  },
  {
   "cell_type": "code",
   "execution_count": 4,
   "metadata": {},
   "outputs": [
    {
     "data": {
      "text/plain": [
       "(581012, 55)"
      ]
     },
     "execution_count": 4,
     "metadata": {},
     "output_type": "execute_result"
    }
   ],
   "source": [
    "df.shape"
   ]
  },
  {
   "cell_type": "markdown",
   "metadata": {},
   "source": [
    "581012 observations, 55 columns, 54 features, the last one is class"
   ]
  },
  {
   "cell_type": "code",
   "execution_count": 5,
   "metadata": {},
   "outputs": [
    {
     "data": {
      "text/plain": [
       "Elevation                             0\n",
       "Aspect                                0\n",
       "Slope                                 0\n",
       "Horizontal_Distance_To_Hydrology      0\n",
       "Vertical_Distance_To_Hydrology        0\n",
       "Horizontal_Distance_To_Roadways       0\n",
       "Hillshade_9am                         0\n",
       "Hillshade_Noon                        0\n",
       "Hillshade_3pm                         0\n",
       "Horizontal_Distance_To_Fire_Points    0\n",
       "Wilderness_Area1                      0\n",
       "Wilderness_Area2                      0\n",
       "Wilderness_Area3                      0\n",
       "Wilderness_Area4                      0\n",
       "Soil_Type1                            0\n",
       "Soil_Type2                            0\n",
       "Soil_Type3                            0\n",
       "Soil_Type4                            0\n",
       "Soil_Type5                            0\n",
       "Soil_Type6                            0\n",
       "Soil_Type7                            0\n",
       "Soil_Type8                            0\n",
       "Soil_Type9                            0\n",
       "Soil_Type10                           0\n",
       "Soil_Type11                           0\n",
       "Soil_Type12                           0\n",
       "Soil_Type13                           0\n",
       "Soil_Type14                           0\n",
       "Soil_Type15                           0\n",
       "Soil_Type16                           0\n",
       "Soil_Type17                           0\n",
       "Soil_Type18                           0\n",
       "Soil_Type19                           0\n",
       "Soil_Type20                           0\n",
       "Soil_Type21                           0\n",
       "Soil_Type22                           0\n",
       "Soil_Type23                           0\n",
       "Soil_Type24                           0\n",
       "Soil_Type25                           0\n",
       "Soil_Type26                           0\n",
       "Soil_Type27                           0\n",
       "Soil_Type28                           0\n",
       "Soil_Type29                           0\n",
       "Soil_Type30                           0\n",
       "Soil_Type31                           0\n",
       "Soil_Type32                           0\n",
       "Soil_Type33                           0\n",
       "Soil_Type34                           0\n",
       "Soil_Type35                           0\n",
       "Soil_Type36                           0\n",
       "Soil_Type37                           0\n",
       "Soil_Type38                           0\n",
       "Soil_Type39                           0\n",
       "Soil_Type40                           0\n",
       "class                                 0\n",
       "dtype: int64"
      ]
     },
     "execution_count": 5,
     "metadata": {},
     "output_type": "execute_result"
    }
   ],
   "source": [
    "#checking for missing data\n",
    "df.isnull().sum()"
   ]
  },
  {
   "cell_type": "markdown",
   "metadata": {},
   "source": [
    "Spliting the data into labels and features"
   ]
  },
  {
   "cell_type": "code",
   "execution_count": 6,
   "metadata": {},
   "outputs": [],
   "source": [
    "labels = df.iloc[: ,-1]\n",
    "features = df.iloc[:,0:-1]"
   ]
  },
  {
   "cell_type": "markdown",
   "metadata": {},
   "source": [
    "Spliting the data into training sets and test sets"
   ]
  },
  {
   "cell_type": "code",
   "execution_count": 7,
   "metadata": {
    "tags": []
   },
   "outputs": [],
   "source": [
    "features_train, features_test, labels_train, labels_test = train_test_split(features, labels, test_size=0.3, random_state=42)"
   ]
  },
  {
   "cell_type": "markdown",
   "metadata": {},
   "source": [
    "Normalizing the data"
   ]
  },
  {
   "cell_type": "code",
   "execution_count": 8,
   "metadata": {},
   "outputs": [],
   "source": [
    "scaler = StandardScaler()\n",
    "features_train_scaled = scaler.fit_transform(features_train)\n",
    "features_test_scaled = scaler.transform(features_test)"
   ]
  },
  {
   "cell_type": "markdown",
   "metadata": {},
   "source": [
    "Creating the neural network model"
   ]
  },
  {
   "cell_type": "code",
   "execution_count": 9,
   "metadata": {},
   "outputs": [],
   "source": [
    "def design_model(x):\n",
    "    model = Sequential()\n",
    "    input = InputLayer(input_shape=(x.shape[1],))\n",
    "    model.add(input)\n",
    "    model.add(Dense(128, activation='relu'))\n",
    "    model.add(Dense(64, activation='relu'))\n",
    "    model.add(Dense(8, activation='softmax'))\n",
    "    opt = Adam(learning_rate=0.001)\n",
    "    model.compile(loss='sparse_categorical_crossentropy', optimizer=opt, metrics=['accuracy'])\n",
    "    return model"
   ]
  },
  {
   "cell_type": "markdown",
   "metadata": {},
   "source": [
    "Applying the model to the scaled training data"
   ]
  },
  {
   "cell_type": "code",
   "execution_count": 10,
   "metadata": {},
   "outputs": [],
   "source": [
    "model = design_model(features_train_scaled)"
   ]
  },
  {
   "cell_type": "markdown",
   "metadata": {},
   "source": [
    "Fitting the model"
   ]
  },
  {
   "cell_type": "markdown",
   "metadata": {},
   "source": [
    "Creating the early stopping for efficiency"
   ]
  },
  {
   "cell_type": "code",
   "execution_count": 11,
   "metadata": {},
   "outputs": [],
   "source": [
    "es = EarlyStopping(monitor='val_accuracy', mode='min', verbose=1, patience=50)"
   ]
  },
  {
   "cell_type": "code",
   "execution_count": 12,
   "metadata": {},
   "outputs": [
    {
     "name": "stdout",
     "output_type": "stream",
     "text": [
      "Epoch 1/300\n"
     ]
    },
    {
     "name": "stderr",
     "output_type": "stream",
     "text": [
      "c:\\Users\\kuba\\AppData\\Local\\Programs\\Python\\Python310\\lib\\site-packages\\keras\\engine\\data_adapter.py:1699: FutureWarning: The behavior of `series[i:j]` with an integer-dtype index is deprecated. In a future version, this will be treated as *label-based* indexing, consistent with e.g. `series[i]` lookups. To retain the old behavior, use `series.iloc[i:j]`. To get the future behavior, use `series.loc[i:j]`.\n",
      "  return t[start:end]\n"
     ]
    },
    {
     "name": "stdout",
     "output_type": "stream",
     "text": [
      "285/285 [==============================] - 2s 6ms/step - loss: 0.7453 - accuracy: 0.6998 - val_loss: 0.6012 - val_accuracy: 0.7456\n",
      "Epoch 2/300\n",
      "285/285 [==============================] - 1s 5ms/step - loss: 0.5742 - accuracy: 0.7576 - val_loss: 0.5513 - val_accuracy: 0.7644\n",
      "Epoch 3/300\n",
      "285/285 [==============================] - 1s 5ms/step - loss: 0.5334 - accuracy: 0.7726 - val_loss: 0.5168 - val_accuracy: 0.7783\n",
      "Epoch 4/300\n",
      "285/285 [==============================] - 1s 5ms/step - loss: 0.5041 - accuracy: 0.7849 - val_loss: 0.4938 - val_accuracy: 0.7891\n",
      "Epoch 5/300\n",
      "285/285 [==============================] - 1s 5ms/step - loss: 0.4808 - accuracy: 0.7948 - val_loss: 0.4685 - val_accuracy: 0.7995\n",
      "Epoch 6/300\n",
      "285/285 [==============================] - 1s 5ms/step - loss: 0.4606 - accuracy: 0.8045 - val_loss: 0.4538 - val_accuracy: 0.8059\n",
      "Epoch 7/300\n",
      "285/285 [==============================] - 1s 5ms/step - loss: 0.4439 - accuracy: 0.8127 - val_loss: 0.4372 - val_accuracy: 0.8144\n",
      "Epoch 8/300\n",
      "285/285 [==============================] - 1s 5ms/step - loss: 0.4292 - accuracy: 0.8198 - val_loss: 0.4219 - val_accuracy: 0.8239\n",
      "Epoch 9/300\n",
      "285/285 [==============================] - 1s 4ms/step - loss: 0.4167 - accuracy: 0.8257 - val_loss: 0.4249 - val_accuracy: 0.8190\n",
      "Epoch 10/300\n",
      "285/285 [==============================] - 1s 5ms/step - loss: 0.4055 - accuracy: 0.8316 - val_loss: 0.4017 - val_accuracy: 0.8342\n",
      "Epoch 11/300\n",
      "285/285 [==============================] - 1s 5ms/step - loss: 0.3959 - accuracy: 0.8358 - val_loss: 0.3894 - val_accuracy: 0.8391\n",
      "Epoch 12/300\n",
      "285/285 [==============================] - 1s 4ms/step - loss: 0.3877 - accuracy: 0.8398 - val_loss: 0.3909 - val_accuracy: 0.8396\n",
      "Epoch 13/300\n",
      "285/285 [==============================] - 1s 5ms/step - loss: 0.3802 - accuracy: 0.8423 - val_loss: 0.3790 - val_accuracy: 0.8425\n",
      "Epoch 14/300\n",
      "285/285 [==============================] - 1s 5ms/step - loss: 0.3724 - accuracy: 0.8470 - val_loss: 0.3769 - val_accuracy: 0.8442\n",
      "Epoch 15/300\n",
      "285/285 [==============================] - 1s 5ms/step - loss: 0.3667 - accuracy: 0.8491 - val_loss: 0.3645 - val_accuracy: 0.8505\n",
      "Epoch 16/300\n",
      "285/285 [==============================] - 1s 5ms/step - loss: 0.3610 - accuracy: 0.8516 - val_loss: 0.3596 - val_accuracy: 0.8530\n",
      "Epoch 17/300\n",
      "285/285 [==============================] - 1s 5ms/step - loss: 0.3556 - accuracy: 0.8545 - val_loss: 0.3548 - val_accuracy: 0.8558\n",
      "Epoch 18/300\n",
      "285/285 [==============================] - 1s 4ms/step - loss: 0.3505 - accuracy: 0.8563 - val_loss: 0.3578 - val_accuracy: 0.8529\n",
      "Epoch 19/300\n",
      "285/285 [==============================] - 1s 5ms/step - loss: 0.3479 - accuracy: 0.8574 - val_loss: 0.3443 - val_accuracy: 0.8602\n",
      "Epoch 20/300\n",
      "285/285 [==============================] - 1s 5ms/step - loss: 0.3427 - accuracy: 0.8601 - val_loss: 0.3420 - val_accuracy: 0.8605\n",
      "Epoch 21/300\n",
      "285/285 [==============================] - 1s 5ms/step - loss: 0.3393 - accuracy: 0.8613 - val_loss: 0.3417 - val_accuracy: 0.8605\n",
      "Epoch 22/300\n",
      "285/285 [==============================] - 1s 5ms/step - loss: 0.3360 - accuracy: 0.8630 - val_loss: 0.3396 - val_accuracy: 0.8606\n",
      "Epoch 23/300\n",
      "285/285 [==============================] - 1s 4ms/step - loss: 0.3331 - accuracy: 0.8637 - val_loss: 0.3333 - val_accuracy: 0.8647\n",
      "Epoch 24/300\n",
      "285/285 [==============================] - 1s 5ms/step - loss: 0.3293 - accuracy: 0.8656 - val_loss: 0.3345 - val_accuracy: 0.8646\n",
      "Epoch 25/300\n",
      "285/285 [==============================] - 1s 5ms/step - loss: 0.3262 - accuracy: 0.8678 - val_loss: 0.3310 - val_accuracy: 0.8639\n",
      "Epoch 26/300\n",
      "285/285 [==============================] - 1s 4ms/step - loss: 0.3233 - accuracy: 0.8685 - val_loss: 0.3240 - val_accuracy: 0.8697\n",
      "Epoch 27/300\n",
      "285/285 [==============================] - 1s 5ms/step - loss: 0.3204 - accuracy: 0.8694 - val_loss: 0.3224 - val_accuracy: 0.8698\n",
      "Epoch 28/300\n",
      "285/285 [==============================] - 1s 5ms/step - loss: 0.3180 - accuracy: 0.8705 - val_loss: 0.3197 - val_accuracy: 0.8706\n",
      "Epoch 29/300\n",
      "285/285 [==============================] - 1s 5ms/step - loss: 0.3160 - accuracy: 0.8713 - val_loss: 0.3231 - val_accuracy: 0.8698\n",
      "Epoch 30/300\n",
      "285/285 [==============================] - 1s 5ms/step - loss: 0.3124 - accuracy: 0.8727 - val_loss: 0.3136 - val_accuracy: 0.8733\n",
      "Epoch 31/300\n",
      "285/285 [==============================] - 1s 5ms/step - loss: 0.3118 - accuracy: 0.8729 - val_loss: 0.3139 - val_accuracy: 0.8732\n",
      "Epoch 32/300\n",
      "285/285 [==============================] - 1s 5ms/step - loss: 0.3076 - accuracy: 0.8751 - val_loss: 0.3104 - val_accuracy: 0.8746\n",
      "Epoch 33/300\n",
      "285/285 [==============================] - 1s 5ms/step - loss: 0.3069 - accuracy: 0.8754 - val_loss: 0.3096 - val_accuracy: 0.8744\n",
      "Epoch 34/300\n",
      "285/285 [==============================] - 1s 5ms/step - loss: 0.3040 - accuracy: 0.8762 - val_loss: 0.3090 - val_accuracy: 0.8751\n",
      "Epoch 35/300\n",
      "285/285 [==============================] - 1s 4ms/step - loss: 0.3018 - accuracy: 0.8770 - val_loss: 0.3074 - val_accuracy: 0.8747\n",
      "Epoch 36/300\n",
      "285/285 [==============================] - 1s 4ms/step - loss: 0.3002 - accuracy: 0.8784 - val_loss: 0.3099 - val_accuracy: 0.8748\n",
      "Epoch 37/300\n",
      "285/285 [==============================] - 1s 5ms/step - loss: 0.2994 - accuracy: 0.8780 - val_loss: 0.3094 - val_accuracy: 0.8750\n",
      "Epoch 38/300\n",
      "285/285 [==============================] - 1s 4ms/step - loss: 0.2968 - accuracy: 0.8789 - val_loss: 0.3046 - val_accuracy: 0.8778\n",
      "Epoch 39/300\n",
      "285/285 [==============================] - 1s 5ms/step - loss: 0.2959 - accuracy: 0.8798 - val_loss: 0.3052 - val_accuracy: 0.8786\n",
      "Epoch 40/300\n",
      "285/285 [==============================] - 1s 5ms/step - loss: 0.2931 - accuracy: 0.8811 - val_loss: 0.3084 - val_accuracy: 0.8748\n",
      "Epoch 41/300\n",
      "285/285 [==============================] - 1s 4ms/step - loss: 0.2920 - accuracy: 0.8819 - val_loss: 0.2977 - val_accuracy: 0.8810\n",
      "Epoch 42/300\n",
      "285/285 [==============================] - 1s 5ms/step - loss: 0.2897 - accuracy: 0.8825 - val_loss: 0.2993 - val_accuracy: 0.8799\n",
      "Epoch 43/300\n",
      "285/285 [==============================] - 1s 5ms/step - loss: 0.2890 - accuracy: 0.8826 - val_loss: 0.2961 - val_accuracy: 0.8806\n",
      "Epoch 44/300\n",
      "285/285 [==============================] - 1s 5ms/step - loss: 0.2868 - accuracy: 0.8843 - val_loss: 0.2973 - val_accuracy: 0.8821\n",
      "Epoch 45/300\n",
      "285/285 [==============================] - 1s 5ms/step - loss: 0.2845 - accuracy: 0.8850 - val_loss: 0.2945 - val_accuracy: 0.8821\n",
      "Epoch 46/300\n",
      "285/285 [==============================] - 1s 5ms/step - loss: 0.2841 - accuracy: 0.8848 - val_loss: 0.2932 - val_accuracy: 0.8818\n",
      "Epoch 47/300\n",
      "285/285 [==============================] - 1s 5ms/step - loss: 0.2826 - accuracy: 0.8858 - val_loss: 0.2922 - val_accuracy: 0.8828\n",
      "Epoch 48/300\n",
      "285/285 [==============================] - 1s 5ms/step - loss: 0.2814 - accuracy: 0.8859 - val_loss: 0.2894 - val_accuracy: 0.8855\n",
      "Epoch 49/300\n",
      "285/285 [==============================] - 1s 5ms/step - loss: 0.2791 - accuracy: 0.8871 - val_loss: 0.2924 - val_accuracy: 0.8832\n",
      "Epoch 50/300\n",
      "285/285 [==============================] - 1s 5ms/step - loss: 0.2790 - accuracy: 0.8870 - val_loss: 0.2901 - val_accuracy: 0.8828\n",
      "Epoch 51/300\n",
      "285/285 [==============================] - 1s 5ms/step - loss: 0.2774 - accuracy: 0.8879 - val_loss: 0.2939 - val_accuracy: 0.8835\n",
      "Epoch 51: early stopping\n"
     ]
    }
   ],
   "source": [
    "history = model.fit(features_train_scaled, labels_train, epochs=300, batch_size=1000, verbose=1, validation_split=0.3, callbacks=[es])"
   ]
  },
  {
   "cell_type": "code",
   "execution_count": 13,
   "metadata": {},
   "outputs": [
    {
     "name": "stdout",
     "output_type": "stream",
     "text": [
      "Model: \"sequential\"\n",
      "_________________________________________________________________\n",
      " Layer (type)                Output Shape              Param #   \n",
      "=================================================================\n",
      " dense (Dense)               (None, 128)               7040      \n",
      "                                                                 \n",
      " dense_1 (Dense)             (None, 64)                8256      \n",
      "                                                                 \n",
      " dense_2 (Dense)             (None, 8)                 520       \n",
      "                                                                 \n",
      "=================================================================\n",
      "Total params: 15,816\n",
      "Trainable params: 15,816\n",
      "Non-trainable params: 0\n",
      "_________________________________________________________________\n"
     ]
    }
   ],
   "source": [
    "model.summary()"
   ]
  },
  {
   "cell_type": "markdown",
   "metadata": {},
   "source": [
    "Evaluating the model"
   ]
  },
  {
   "cell_type": "code",
   "execution_count": 18,
   "metadata": {},
   "outputs": [
    {
     "name": "stdout",
     "output_type": "stream",
     "text": [
      "Test loss: 0.2996196448802948\n",
      "Test accuracy: 0.8806625008583069\n"
     ]
    }
   ],
   "source": [
    "score = model.evaluate(features_test_scaled, labels_test, verbose=0)\n",
    "print('Test loss: {score}'.format(score=score[0]))\n",
    "print('Test accuracy: {score}'.format(score=score[1]))"
   ]
  },
  {
   "cell_type": "markdown",
   "metadata": {},
   "source": [
    "Classification report"
   ]
  },
  {
   "cell_type": "code",
   "execution_count": 19,
   "metadata": {},
   "outputs": [
    {
     "name": "stdout",
     "output_type": "stream",
     "text": [
      "5447/5447 [==============================] - 7s 1ms/step\n",
      "                   precision    recall  f1-score   support\n",
      "\n",
      "       Spruce/Fir       0.87      0.89      0.88     63556\n",
      "   Lodgepole Pine       0.90      0.89      0.90     85078\n",
      "   Ponderosa Pine       0.89      0.82      0.86     10638\n",
      "Cottonwood/Willow       0.89      0.68      0.77       795\n",
      "            Aspem       0.76      0.63      0.68      2941\n",
      "      Douglas-fir       0.69      0.83      0.75      5227\n",
      "        Krummholz       0.93      0.85      0.89      6069\n",
      "\n",
      "         accuracy                           0.88    174304\n",
      "        macro avg       0.85      0.80      0.82    174304\n",
      "     weighted avg       0.88      0.88      0.88    174304\n",
      "\n"
     ]
    }
   ],
   "source": [
    "pred = model.predict(features_test_scaled)\n",
    "\n",
    "pred = np.argmax(pred, axis=1)\n",
    "class_names = ['Spruce/Fir', 'Lodgepole Pine', 'Ponderosa Pine', 'Cottonwood/Willow', 'Aspem', 'Douglas-fir', 'Krummholz']\n",
    "print(classification_report(labels_test, pred, target_names=class_names))"
   ]
  },
  {
   "cell_type": "markdown",
   "metadata": {},
   "source": [
    "Plotting the accuracy and loss"
   ]
  },
  {
   "cell_type": "code",
   "execution_count": 20,
   "metadata": {},
   "outputs": [
    {
     "data": {
      "image/png": "[encoded data removed]",
      "text/plain": [
       "<Figure size 640x480 with 2 Axes>"
      ]
     },
     "metadata": {},
     "output_type": "display_data"
    }
   ],
   "source": [
    "fig = plt.figure()\n",
    "ax1 = fig.add_subplot(2, 1, 1)\n",
    "ax1.plot(history.history['accuracy'])\n",
    "ax1.plot(history.history['val_accuracy'])\n",
    "ax1.set_title('model accuracy')\n",
    "ax1.set_xlabel('epoch')\n",
    "ax1.set_ylabel('accuracy')\n",
    "ax1.legend(['train', 'validation'])\n",
    "\n",
    "ax2 = fig.add_subplot(2, 1, 2)\n",
    "ax2.plot(history.history['loss'])\n",
    "ax2.plot(history.history['val_loss'])\n",
    "ax2.set_title('model loss')\n",
    "ax2.set_xlabel('epoch')\n",
    "ax2.set_ylabel('loss')\n",
    "ax2.legend(['train', 'validation'])\n",
    "\n",
    "fig.tight_layout()\n",
    "plt.show()"
   ]
  },
  {
   "cell_type": "markdown",
   "metadata": {},
   "source": [
    "This project gave the opportunity to practice adjusting hyperparameters, early stopping and number of neural networks. Accuracy of 0.88 was achieved.\n",
    "Model provided a good classification except for Aspem which had the lowest F1-score"
   ]
  }
 ],
 "metadata": {
  "kernelspec": {
   "display_name": "Python 3.10.3 64-bit",
   "language": "python",
   "name": "python3"
  },
  "language_info": {
   "codemirror_mode": {
    "name": "ipython",
    "version": 3
   },
   "file_extension": ".py",
   "mimetype": "text/x-python",
   "name": "python",
   "nbconvert_exporter": "python",
   "pygments_lexer": "ipython3",
   "version": "3.10.3"
  },
  "orig_nbformat": 4,
  "vscode": {
   "interpreter": {
    "hash": "0e81874bf650fc31e337fee18556022f6d1282535e599968b82398f317903338"
   }
  }
 },
 "nbformat": 4,
 "nbformat_minor": 2
}
